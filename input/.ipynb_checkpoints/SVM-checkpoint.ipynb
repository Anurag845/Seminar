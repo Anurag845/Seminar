{
 "cells": [
  {
   "cell_type": "code",
   "execution_count": 2,
   "metadata": {
    "collapsed": false
   },
   "outputs": [
    {
     "name": "stdout",
     "output_type": "stream",
     "text": [
      "['fundamentals.csv', '.ipynb_checkpoints', 'prices-split-adjusted.csv', 'SVM.ipynb', 'securities.csv', 'prices.csv', 'msft_prices.csv']\n"
     ]
    }
   ],
   "source": [
    "# This Python 3 environment comes with many helpful analytics libraries installed\n",
    "# It is defined by the kaggle/python docker image: https://github.com/kaggle/docker-python\n",
    "# For example, here's several helpful packages to load in \n",
    "\n",
    "import numpy as np # linear algebra\n",
    "import pandas as pd # data processing, CSV file I/O (e.g. pd.read_csv)\n",
    "\n",
    "# Input data files are available in the \"../input/\" directory.\n",
    "# For example, running this (by clicking run or pressing Shift+Enter) will list the files in the input directory\n",
    "\n",
    "import os\n",
    "print(os.listdir(\"../input\"))\n",
    "\n",
    "# Any results you write to the current directory are saved as output."
   ]
  },
  {
   "cell_type": "code",
   "execution_count": 3,
   "metadata": {
    "collapsed": true
   },
   "outputs": [],
   "source": [
    "#using svm to predict stock\n",
    "import numpy as np\n",
    "import pandas as pd\n",
    "from sklearn.model_selection import train_test_split\n",
    "from sklearn import svm,preprocessing \n",
    "from sklearn.metrics import classification_report\n",
    "stock_prices = pd.read_csv(r'../input/prices.csv')\n",
    "symbols = list(set(stock_prices['symbol']))"
   ]
  },
  {
   "cell_type": "code",
   "execution_count": 4,
   "metadata": {
    "collapsed": true
   },
   "outputs": [],
   "source": [
    "msft_prices = stock_prices[stock_prices['symbol']== 'MSFT']\n",
    "msft_prices = msft_prices[['date','open','low','high','close','volume']]\n",
    "msft_prices.to_csv('msft_prices.csv',sep='\\t')\n",
    "msft_dates = [pd.Timestamp(date) for date in msft_prices['date']]\n"
   ]
  },
  {
   "cell_type": "code",
   "execution_count": 5,
   "metadata": {
    "collapsed": false
   },
   "outputs": [
    {
     "name": "stderr",
     "output_type": "stream",
     "text": [
      "/usr/local/lib/python3.5/dist-packages/pandas/plotting/_converter.py:129: FutureWarning: Using an implicitly registered datetime converter for a matplotlib plotting method. The converter was registered by pandas on import. Future versions of pandas will require you to explicitly register matplotlib converters.\n",
      "\n",
      "To register the converters:\n",
      "\t>>> from pandas.plotting import register_matplotlib_converters\n",
      "\t>>> register_matplotlib_converters()\n",
      "  warnings.warn(msg, FutureWarning)\n"
     ]
    },
    {
     "data": {
      "image/png": "[encoded data removed]",
      "text/plain": [
       "<Figure size 432x288 with 1 Axes>"
      ]
     },
     "metadata": {},
     "output_type": "display_data"
    }
   ],
   "source": [
    "msft_close = np.array(msft_prices['close'],dtype='float')\n",
    "import matplotlib.pyplot as plt\n",
    "plt.title('MSFT')\n",
    "plt.scatter(msft_dates,msft_close)\n",
    "plt.show()"
   ]
  },
  {
   "cell_type": "code",
   "execution_count": 6,
   "metadata": {
    "collapsed": true
   },
   "outputs": [],
   "source": [
    "msft_prices = msft_prices.set_index('date')"
   ]
  },
  {
   "cell_type": "code",
   "execution_count": 7,
   "metadata": {
    "collapsed": true
   },
   "outputs": [],
   "source": [
    "def get_x_and_y(price,window_length=7,predict_day_length=1):\n",
    "    '''get train and test set\n",
    "    every time get window from price and\n",
    "    '''\n",
    "    m = len(price.iloc[0])\n",
    "    n = len(price) - window_length\n",
    "    m = window_length * m\n",
    "\n",
    "    x = np.ones((n,m))\n",
    "    y = np.ones((n,1))\n",
    "\n",
    "    for i in range(len(price)-window_length):\n",
    "        ans = [list(price.iloc[j] for j in range(i,i+window_length))]\n",
    "        ans = np.array(ans).flatten()\n",
    "        x[i] = ans\n",
    "        y[i] = 1 if price.close[i+window_length+predict_day_length-1] - price.close[i+window_length-1] >0 else 0\n",
    "    return [x,y]"
   ]
  },
  {
   "cell_type": "code",
   "execution_count": 8,
   "metadata": {
    "collapsed": true
   },
   "outputs": [],
   "source": [
    "def train_and_test(price,window_length,accurarys,reports):\n",
    "    x,y = get_x_and_y(msft_prices,window_length=window_length)\n",
    "    y = y.flatten()\n",
    "    scaler = preprocessing.StandardScaler()\n",
    "    scaler.fit_transform(x)\n",
    "    x_train,x_test,y_train,y_test = train_test_split(x,y,test_size=0.25,random_state=233)\n",
    "    for kernel_arg in ['rbf','poly','linear']:\n",
    "        clf = svm.SVC(kernel=kernel_arg,max_iter=5000)\n",
    "        clf.fit(x_train,y_train)\n",
    "        y_predict = clf.predict(x_test)\n",
    "\n",
    "        accurary = clf.score(x_test,y_test)\n",
    "        report = classification_report(y_test,y_predict,target_names = ['drop','up'])\n",
    "        if window_length in accurarys:\n",
    "            accurarys[window_length].append(accurary)\n",
    "            reports[window_length].append(report)\n",
    "        else: \n",
    "            accurarys[window_length] = [accurary]\n",
    "            reports[window_length] = [report]\n",
    "        print('The Accurary of %s : %f'%(kernel_arg,clf.score(x_test,y_test)))\n",
    "        print(report)"
   ]
  },
  {
   "cell_type": "code",
   "execution_count": 1,
   "metadata": {
    "collapsed": false
   },
   "outputs": [
    {
     "name": "stdout",
     "output_type": "stream",
     "text": [
      "window_length: 7\n"
     ]
    },
    {
     "ename": "NameError",
     "evalue": "name 'train_and_test' is not defined",
     "output_type": "error",
     "traceback": [
      "\u001b[0;31m---------------------------------------------------------------------------\u001b[0m",
      "\u001b[0;31mNameError\u001b[0m                                 Traceback (most recent call last)",
      "\u001b[0;32m<ipython-input-1-9afc5ddaf7b1>\u001b[0m in \u001b[0;36m<module>\u001b[0;34m()\u001b[0m\n\u001b[1;32m      5\u001b[0m \u001b[0;32mfor\u001b[0m \u001b[0ml\u001b[0m \u001b[0;32min\u001b[0m \u001b[0mwindow_lengths\u001b[0m\u001b[0;34m:\u001b[0m\u001b[0;34m\u001b[0m\u001b[0m\n\u001b[1;32m      6\u001b[0m     \u001b[0mprint\u001b[0m\u001b[0;34m(\u001b[0m\u001b[0;34m'window_length:'\u001b[0m\u001b[0;34m,\u001b[0m\u001b[0ml\u001b[0m\u001b[0;34m)\u001b[0m\u001b[0;34m\u001b[0m\u001b[0m\n\u001b[0;32m----> 7\u001b[0;31m     \u001b[0mtrain_and_test\u001b[0m\u001b[0;34m(\u001b[0m\u001b[0mmsft_prices\u001b[0m\u001b[0;34m,\u001b[0m\u001b[0ml\u001b[0m\u001b[0;34m,\u001b[0m\u001b[0maccurarys\u001b[0m\u001b[0;34m,\u001b[0m\u001b[0mreports\u001b[0m\u001b[0;34m)\u001b[0m\u001b[0;34m\u001b[0m\u001b[0m\n\u001b[0m",
      "\u001b[0;31mNameError\u001b[0m: name 'train_and_test' is not defined"
     ]
    }
   ],
   "source": [
    "#window_lengths = [7,14,21,30,60,90,120,150,180]\n",
    "accurarys = {}\n",
    "reports ={}\n",
    "\n",
    "#for l in window_lengths:\n",
    "#print('window_length:',l)\n",
    "l = 20\n",
    "train_and_test(msft_prices,l,accurarys,reports)"
   ]
  },
  {
   "cell_type": "code",
   "execution_count": null,
   "metadata": {
    "collapsed": true
   },
   "outputs": [],
   "source": []
  }
 ],
 "metadata": {
  "kernelspec": {
   "display_name": "Python 3",
   "language": "python",
   "name": "python3"
  },
  "language_info": {
   "codemirror_mode": {
    "name": "ipython",
    "version": 3
   },
   "file_extension": ".py",
   "mimetype": "text/x-python",
   "name": "python",
   "nbconvert_exporter": "python",
   "pygments_lexer": "ipython3",
   "version": "3.5.3"
  }
 },
 "nbformat": 4,
 "nbformat_minor": 2
}
